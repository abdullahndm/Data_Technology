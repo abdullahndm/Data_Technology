{
  "nbformat": 4,
  "nbformat_minor": 0,
  "metadata": {
    "colab": {
      "name": "NBCPhyton-Scratch.ipynb",
      "provenance": []
    },
    "kernelspec": {
      "name": "python3",
      "display_name": "Python 3"
    },
    "language_info": {
      "name": "python"
    }
  },
  "cells": [
    {
      "cell_type": "markdown",
      "metadata": {
        "id": "76NBisOISWy8"
      },
      "source": [
        "Step 1: Separate By Class"
      ]
    },
    {
      "cell_type": "code",
      "metadata": {
        "id": "HuW06xcPRIxD",
        "colab": {
          "base_uri": "https://localhost:8080/"
        },
        "outputId": "32789a8d-639d-436b-8e17-d379e94610d6"
      },
      "source": [
        "# Split the dataset by class values, returns a dictionary\n",
        "def separate_by_class(dataset):\n",
        "\tseparated = dict()\n",
        "\tfor i in range(len(dataset)):\n",
        "\t\tvector = dataset[i]\n",
        "\t\tclass_value = vector[-1]\n",
        "\t\tif (class_value not in separated):\n",
        "\t\t\tseparated[class_value] = list()\n",
        "\t\tseparated[class_value].append(vector)\n",
        "\treturn separated\n",
        "\n",
        "# Test separating data by class\n",
        "# merah=2, hitam=3, sport=4, SUV=5, domestik=6, import=7, laris=1, tidak=0\n",
        "dataset = [[2,4,6,1],\n",
        "\t[2,4,6,1],\n",
        "\t[3,4,6,0],\n",
        "\t[3,4,7,1],\n",
        "\t[3,5,7,0],\n",
        "\t[3,5,7,1],\n",
        "\t[3,5,6,0],\n",
        "\t[2,5,7,0],\n",
        "\t[2,4,7,1]]\n",
        "separated = separate_by_class(dataset)\n",
        "for label in separated:\n",
        "\tprint(label)\n",
        "\tfor row in separated[label]:\n",
        "\t\tprint(row)"
      ],
      "execution_count": 3,
      "outputs": [
        {
          "output_type": "stream",
          "text": [
            "1\n",
            "[2, 4, 6, 1]\n",
            "[2, 4, 6, 1]\n",
            "[3, 4, 7, 1]\n",
            "[3, 5, 7, 1]\n",
            "[2, 4, 7, 1]\n",
            "0\n",
            "[3, 4, 6, 0]\n",
            "[3, 5, 7, 0]\n",
            "[3, 5, 6, 0]\n",
            "[2, 5, 7, 0]\n"
          ],
          "name": "stdout"
        }
      ]
    },
    {
      "cell_type": "markdown",
      "metadata": {
        "id": "jKFSpxJpaUMT"
      },
      "source": [
        "Step 2: Summarize Dataset\n",
        "\n",
        "Step 3: Summarize Data By Class"
      ]
    },
    {
      "cell_type": "code",
      "metadata": {
        "colab": {
          "base_uri": "https://localhost:8080/"
        },
        "id": "TnJOsE_Gahw3",
        "outputId": "98c0bf77-c70d-4d1a-a220-c1a29f849ce6"
      },
      "source": [
        "# Example of summarizing a dataset\n",
        "from math import sqrt\n",
        " \n",
        "# Calculate the mean of a list of numbers\n",
        "def mean(numbers):\n",
        "\treturn sum(numbers)/float(len(numbers))\n",
        " \n",
        "# Calculate the standard deviation of a list of numbers\n",
        "def stdev(numbers):\n",
        "\tavg = mean(numbers)\n",
        "\tvariance = sum([(x-avg)**2 for x in numbers]) / float(len(numbers)-1)\n",
        "\treturn sqrt(variance)\n",
        " \n",
        "# Calculate the mean, stdev and count for each column in a dataset\n",
        "def summarize_dataset(dataset):\n",
        "\tsummaries = [(mean(column), stdev(column), len(column)) for column in zip(*dataset)]\n",
        "\tdel(summaries[-1])\n",
        "\treturn summaries\n",
        "\n",
        "# Split dataset by class then calculate statistics for each row\n",
        "def summarize_by_class(dataset):\n",
        "\tseparated = separate_by_class(dataset)\n",
        "\tsummaries = dict()\n",
        "\tfor class_value, rows in separated.items():\n",
        "\t\tsummaries[class_value] = summarize_dataset(rows)\n",
        "\treturn summaries\n",
        "\n",
        "# test summarizing a dataset\n",
        "dataset = [[2,4,6,1],\n",
        "\t[2,4,6,1],\n",
        "\t[3,4,6,0],\n",
        "\t[3,4,7,1],\n",
        "\t[3,5,7,0],\n",
        "\t[3,5,7,1],\n",
        "\t[3,5,6,0],\n",
        "\t[2,5,7,0],\n",
        "\t[2,4,7,1]]\n",
        "summary = summarize_by_class(dataset)\n",
        "for label in summary:\n",
        "\tprint(label)\n",
        "\tfor row in summary[label]:\n",
        "\t\tprint(row)"
      ],
      "execution_count": 8,
      "outputs": [
        {
          "output_type": "stream",
          "text": [
            "1\n",
            "(2.4, 0.5477225575051661, 5)\n",
            "(4.2, 0.4472135954999579, 5)\n",
            "(6.6, 0.5477225575051662, 5)\n",
            "0\n",
            "(2.75, 0.5, 4)\n",
            "(4.75, 0.5, 4)\n",
            "(6.5, 0.5773502691896257, 4)\n"
          ],
          "name": "stdout"
        }
      ]
    },
    {
      "cell_type": "markdown",
      "metadata": {
        "id": "5A_vYIGka0dL"
      },
      "source": [
        "Step 4: Gaussian Probability Density Function\n"
      ]
    },
    {
      "cell_type": "code",
      "metadata": {
        "colab": {
          "base_uri": "https://localhost:8080/"
        },
        "id": "77ki83BXa11U",
        "outputId": "5c1c0648-c7e7-45af-cbba-e8269d9823d6"
      },
      "source": [
        "# Example of Gaussian PDF\n",
        "from math import sqrt\n",
        "from math import pi\n",
        "from math import exp\n",
        " \n",
        "# Calculate the Gaussian probability distribution function for x\n",
        "def calculate_probability(x, mean, stdev):\n",
        "\texponent = exp(-((x-mean)**2 / (2 * stdev**2 )))\n",
        "\treturn (1 / (sqrt(2 * pi) * stdev)) * exponent\n",
        " \n",
        "# Test Gaussian PDF\n",
        "print(calculate_probability(2, 5, 6))"
      ],
      "execution_count": 10,
      "outputs": [
        {
          "output_type": "stream",
          "text": [
            "0.05867755446071659\n"
          ],
          "name": "stdout"
        }
      ]
    },
    {
      "cell_type": "markdown",
      "metadata": {
        "id": "WCaahB7SbmHA"
      },
      "source": [
        "Step 5: Class Probabilities"
      ]
    },
    {
      "cell_type": "code",
      "metadata": {
        "colab": {
          "base_uri": "https://localhost:8080/"
        },
        "id": "mKI93Z2Pbmqn",
        "outputId": "1becc2a0-b363-4cf6-a438-b61285e6fee6"
      },
      "source": [
        "# Example of calculating class probabilities\n",
        "from math import sqrt\n",
        "from math import pi\n",
        "from math import exp\n",
        " \n",
        "# Split the dataset by class values, returns a dictionary\n",
        "def separate_by_class(dataset):\n",
        "\tseparated = dict()\n",
        "\tfor i in range(len(dataset)):\n",
        "\t\tvector = dataset[i]\n",
        "\t\tclass_value = vector[-1]\n",
        "\t\tif (class_value not in separated):\n",
        "\t\t\tseparated[class_value] = list()\n",
        "\t\tseparated[class_value].append(vector)\n",
        "\treturn separated\n",
        " \n",
        "# Calculate the mean of a list of numbers\n",
        "def mean(numbers):\n",
        "\treturn sum(numbers)/float(len(numbers))\n",
        " \n",
        "# Calculate the standard deviation of a list of numbers\n",
        "def stdev(numbers):\n",
        "\tavg = mean(numbers)\n",
        "\tvariance = sum([(x-avg)**2 for x in numbers]) / float(len(numbers)-1)\n",
        "\treturn sqrt(variance)\n",
        " \n",
        "# Calculate the mean, stdev and count for each column in a dataset\n",
        "def summarize_dataset(dataset):\n",
        "\tsummaries = [(mean(column), stdev(column), len(column)) for column in zip(*dataset)]\n",
        "\tdel(summaries[-1])\n",
        "\treturn summaries\n",
        " \n",
        "# Split dataset by class then calculate statistics for each row\n",
        "def summarize_by_class(dataset):\n",
        "\tseparated = separate_by_class(dataset)\n",
        "\tsummaries = dict()\n",
        "\tfor class_value, rows in separated.items():\n",
        "\t\tsummaries[class_value] = summarize_dataset(rows)\n",
        "\treturn summaries\n",
        " \n",
        "# Calculate the Gaussian probability distribution function for x\n",
        "def calculate_probability(x, mean, stdev):\n",
        "\texponent = exp(-((x-mean)**2 / (2 * stdev**2 )))\n",
        "\treturn (1 / (sqrt(2 * pi) * stdev)) * exponent\n",
        " \n",
        "# Calculate the probabilities of predicting each class for a given row\n",
        "def calculate_class_probabilities(summaries, row):\n",
        "\ttotal_rows = sum([summaries[label][0][2] for label in summaries])\n",
        "\tprobabilities = dict()\n",
        "\tfor class_value, class_summaries in summaries.items():\n",
        "\t\tprobabilities[class_value] = summaries[class_value][0][2]/float(total_rows)\n",
        "\t\tfor i in range(len(class_summaries)):\n",
        "\t\t\tmean, stdev, _ = class_summaries[i]\n",
        "\t\t\tprobabilities[class_value] *= calculate_probability(row[i], mean, stdev)\n",
        "\treturn probabilities\n",
        " \n",
        "# Test calculating class probabilities\n",
        "dataset = [[2,4,6,1],\n",
        "\t[2,4,6,1],\n",
        "\t[3,4,6,0],\n",
        "\t[3,4,7,1],\n",
        "\t[3,5,7,0],\n",
        "\t[3,5,7,1],\n",
        "\t[3,5,6,0],\n",
        "\t[2,5,7,0],\n",
        "\t[2,4,7,1]]\n",
        "summaries = summarize_by_class(dataset)\n",
        "probabilities = calculate_class_probabilities(summaries, dataset[0])\n",
        "print(probabilities)"
      ],
      "execution_count": 11,
      "outputs": [
        {
          "output_type": "stream",
          "text": [
            "{1: 0.10000079223856109, 0: 0.014162674798217145}\n"
          ],
          "name": "stdout"
        }
      ]
    }
  ]
}